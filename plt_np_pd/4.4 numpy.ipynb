{
 "cells": [
  {
   "cell_type": "code",
   "execution_count": null,
   "id": "70d88864",
   "metadata": {},
   "outputs": [],
   "source": [
    "# 4.4 ndarray运算"
   ]
  },
  {
   "cell_type": "markdown",
   "id": "3b46c489",
   "metadata": {},
   "source": [
    "# 逻辑运算"
   ]
  },
  {
   "cell_type": "code",
   "execution_count": 3,
   "id": "1c10ffa2",
   "metadata": {},
   "outputs": [
    {
     "data": {
      "text/plain": [
       "array([[49, 76, 75, 60, 50],\n",
       "       [75, 94, 52, 97, 84],\n",
       "       [74, 72, 82, 49, 71],\n",
       "       [79, 86, 53, 53, 71],\n",
       "       [50, 74, 46, 99, 52],\n",
       "       [40, 67, 60, 51, 53],\n",
       "       [40, 65, 62, 89, 92],\n",
       "       [75, 79, 61, 47, 96],\n",
       "       [71, 69, 42, 65, 80],\n",
       "       [49, 94, 66, 40, 56]])"
      ]
     },
     "execution_count": 3,
     "metadata": {},
     "output_type": "execute_result"
    }
   ],
   "source": [
    "import numpy as np\n",
    "# 生成10名同学，5门功课的数据\n",
    "score = np.random.randint(40,100,(10,5))\n",
    "score"
   ]
  },
  {
   "cell_type": "code",
   "execution_count": 4,
   "id": "34f5b167",
   "metadata": {},
   "outputs": [
    {
     "data": {
      "text/plain": [
       "array([[40, 65, 62, 89, 92],\n",
       "       [75, 79, 61, 47, 96],\n",
       "       [71, 69, 42, 65, 80],\n",
       "       [49, 94, 66, 40, 56]])"
      ]
     },
     "execution_count": 4,
     "metadata": {},
     "output_type": "execute_result"
    }
   ],
   "source": [
    "# 取出后四名同学的成绩，用于逻辑判断\n",
    "test_score = score[6:,:] # 切片\n",
    "test_score"
   ]
  },
  {
   "cell_type": "code",
   "execution_count": 5,
   "id": "93cce842",
   "metadata": {},
   "outputs": [
    {
     "data": {
      "text/plain": [
       "array([[False,  True,  True,  True,  True],\n",
       "       [ True,  True,  True, False,  True],\n",
       "       [ True,  True, False,  True,  True],\n",
       "       [False,  True,  True, False, False]])"
      ]
     },
     "execution_count": 5,
     "metadata": {},
     "output_type": "execute_result"
    }
   ],
   "source": [
    "# 逻辑判断，如果成绩大于60就标记为True 否则为False\n",
    "test_score > 60"
   ]
  },
  {
   "cell_type": "code",
   "execution_count": 6,
   "id": "0a8d55a5",
   "metadata": {},
   "outputs": [
    {
     "data": {
      "text/plain": [
       "array([[40,  1,  1,  1,  1],\n",
       "       [ 1,  1,  1, 47,  1],\n",
       "       [ 1,  1, 42,  1,  1],\n",
       "       [49,  1,  1, 40, 56]])"
      ]
     },
     "execution_count": 6,
     "metadata": {},
     "output_type": "execute_result"
    }
   ],
   "source": [
    "# BOOL赋值，将满足条件的设置为制定的值-布尔索引\n",
    "test_score[test_score > 60] = 1\n",
    "test_score"
   ]
  },
  {
   "cell_type": "markdown",
   "id": "b33d1d0f",
   "metadata": {},
   "source": [
    "# 通用判断函数\n",
    "- np.all()"
   ]
  },
  {
   "cell_type": "code",
   "execution_count": 10,
   "id": "23697b3c",
   "metadata": {},
   "outputs": [
    {
     "data": {
      "text/plain": [
       "False"
      ]
     },
     "execution_count": 10,
     "metadata": {},
     "output_type": "execute_result"
    }
   ],
   "source": [
    "# 判断前两同学的成绩是否全合格\n",
    "np.all(score[:2,:] > 60)"
   ]
  },
  {
   "cell_type": "markdown",
   "id": "30ef7908",
   "metadata": {},
   "source": [
    "- np.any()"
   ]
  },
  {
   "cell_type": "code",
   "execution_count": 11,
   "id": "f488267a",
   "metadata": {},
   "outputs": [
    {
     "data": {
      "text/plain": [
       "True"
      ]
     },
     "execution_count": 11,
     "metadata": {},
     "output_type": "execute_result"
    }
   ],
   "source": [
    "# 判断前两名同学的成绩[0:2, :]是否有大于90分的\n",
    "np.any(score[:2,:] > 90)"
   ]
  },
  {
   "cell_type": "markdown",
   "id": "614aff81",
   "metadata": {},
   "source": [
    "# np.where(三元运算符)\n",
    "通过使用np.where能够进行更加复杂的运算\n",
    "\n",
    "- np.where()"
   ]
  },
  {
   "cell_type": "code",
   "execution_count": 13,
   "id": "06ded7a6",
   "metadata": {},
   "outputs": [
    {
     "data": {
      "text/plain": [
       "array([[0, 1, 1, 0],\n",
       "       [1, 1, 0, 1],\n",
       "       [1, 1, 1, 0],\n",
       "       [1, 1, 0, 0]])"
      ]
     },
     "execution_count": 13,
     "metadata": {},
     "output_type": "execute_result"
    }
   ],
   "source": [
    "# 判断前四名学生,前四门课程中，成绩中大于60的置为1，否则为0\n",
    "temp = score[:4,:4]\n",
    "np.where(temp > 60,1,0)"
   ]
  },
  {
   "cell_type": "markdown",
   "id": "135c066d",
   "metadata": {},
   "source": [
    "- 复合逻辑需要结合np.logical_and和np.logical_or使用"
   ]
  },
  {
   "cell_type": "code",
   "execution_count": null,
   "id": "847ee66f",
   "metadata": {},
   "outputs": [],
   "source": [
    "# 判断前四名学生,前四门课程中，成绩中大于60且小于90的换为1，否则为0\n",
    "np.where(np.logical_and(temp > 60, temp < 90), 1, 0)\n",
    "# 判断前四名学生,前四门课程中，成绩中大于90或小于60的换为1，否则为0\n",
    "np.where(np.logical_or(temp > 60, temp < 90), 1, 0)"
   ]
  },
  {
   "cell_type": "markdown",
   "id": "79643263",
   "metadata": {},
   "source": [
    "# 统计运算\n",
    "## 统计指标\n",
    "在数据挖掘/机器学习领域，统计指标的值也是我们分析问题的一种方式。常用的指标如下：\n",
    "- min(a, axis)\n",
    "    - Return the minimum of an array or minimum along an axis.\n",
    "- max(a, axis])\n",
    "    - Return the maximum of an array or maximum along an axis.\n",
    "- median(a, axis)\n",
    "    - Compute the median along the specified axis.\n",
    "- mean(a, axis, dtype)\n",
    "    - Compute the arithmetic mean along the specified axis.\n",
    "- std(a, axis, dtype)\n",
    "    - Compute the standard deviation along the specified axis.\n",
    "- var(a, axis, dtype)\n",
    "    - Compute the variance along the specified axis."
   ]
  },
  {
   "cell_type": "markdown",
   "id": "f9d0db83",
   "metadata": {},
   "source": [
    "## 案例：学生成绩统计运算\n",
    "\n",
    "进行统计的时候，axis 轴的取值并不一定，Numpy中不同的API轴的值都不一样，在这里，**axis 0代表列, axis 1代表行**去进行统计"
   ]
  },
  {
   "cell_type": "code",
   "execution_count": 14,
   "id": "3c31b85a",
   "metadata": {},
   "outputs": [
    {
     "name": "stdout",
     "output_type": "stream",
     "text": [
      "前四名学生,各科成绩的最大分：[79 94 82 97 84]\n",
      "前四名学生,各科成绩的最小分：[49 72 52 49 50]\n",
      "前四名学生,各科成绩波动情况：[11.84008024  8.60232527 13.23820229 19.03122434 12.18605761]\n",
      "前四名学生,各科成绩的平均分：[69.25 82.   65.5  64.75 69.  ]\n"
     ]
    }
   ],
   "source": [
    "# 接下来对于前四名学生,进行一些统计运算\n",
    "# 指定列 去统计\n",
    "temp = score[:4,:]\n",
    "print(\"前四名学生,各科成绩的最大分：{}\".format(np.max(temp, axis=0)))\n",
    "print(\"前四名学生,各科成绩的最小分：{}\".format(np.min(temp, axis=0)))\n",
    "print(\"前四名学生,各科成绩波动情况：{}\".format(np.std(temp, axis=0)))\n",
    "print(\"前四名学生,各科成绩的平均分：{}\".format(np.mean(temp, axis=0)))"
   ]
  },
  {
   "cell_type": "markdown",
   "id": "79825fea",
   "metadata": {},
   "source": [
    "如果需要统计出某科最高/低分对应的是哪个同学？\n",
    "\n",
    "- np.argmax(temp, axis=)\n",
    "- np.argmin(temp, axis=)"
   ]
  },
  {
   "cell_type": "code",
   "execution_count": 16,
   "id": "f6885df3",
   "metadata": {},
   "outputs": [
    {
     "data": {
      "text/plain": [
       "array([[49, 76, 75, 60, 50],\n",
       "       [75, 94, 52, 97, 84],\n",
       "       [74, 72, 82, 49, 71],\n",
       "       [79, 86, 53, 53, 71]])"
      ]
     },
     "execution_count": 16,
     "metadata": {},
     "output_type": "execute_result"
    }
   ],
   "source": [
    "temp"
   ]
  },
  {
   "cell_type": "code",
   "execution_count": 15,
   "id": "ce086798",
   "metadata": {},
   "outputs": [
    {
     "name": "stdout",
     "output_type": "stream",
     "text": [
      "前四名学生，各科成绩最高分对应的学生下标：[3 1 2 1 1]\n"
     ]
    }
   ],
   "source": [
    "print(\"前四名学生，各科成绩最高分对应的学生下标：{}\".format(np.argmax(temp, axis=0)))"
   ]
  },
  {
   "cell_type": "markdown",
   "id": "e6b3e7af",
   "metadata": {},
   "source": [
    "# 小结\n",
    "- 逻辑运算【知道】\n",
    "    - 直接进行大于,小于的判断\n",
    "    - 合适之后,可以直接进行赋值\n",
    "- 通用判断函数【知道】\n",
    "    - np.all()\n",
    "    - np.any()\n",
    "- 统计运算【掌握】\n",
    "    - np.max()\n",
    "    - np.min()\n",
    "    - np.median()\n",
    "    - np.mean()\n",
    "    - np.std()\n",
    "    - np.var()\n",
    "    - np.argmax(axis=) — 最大元素对应的下标\n",
    "    - np.argmin(axis=) — 最小元素对应的下标\n"
   ]
  },
  {
   "cell_type": "code",
   "execution_count": null,
   "id": "1e66a5c7",
   "metadata": {},
   "outputs": [],
   "source": []
  }
 ],
 "metadata": {
  "kernelspec": {
   "display_name": "Python 3",
   "language": "python",
   "name": "python3"
  },
  "language_info": {
   "codemirror_mode": {
    "name": "ipython",
    "version": 3
   },
   "file_extension": ".py",
   "mimetype": "text/x-python",
   "name": "python",
   "nbconvert_exporter": "python",
   "pygments_lexer": "ipython3",
   "version": "3.6.9"
  },
  "toc": {
   "base_numbering": 1,
   "nav_menu": {},
   "number_sections": true,
   "sideBar": true,
   "skip_h1_title": false,
   "title_cell": "Table of Contents",
   "title_sidebar": "Contents",
   "toc_cell": false,
   "toc_position": {},
   "toc_section_display": true,
   "toc_window_display": false
  }
 },
 "nbformat": 4,
 "nbformat_minor": 5
}
