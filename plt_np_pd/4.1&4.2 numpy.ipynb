{
 "cells": [
  {
   "cell_type": "raw",
   "id": "248b6a22",
   "metadata": {},
   "source": [
    "4.1 Numpy的优势 小结\n",
    "\n",
    "    numpy介绍【了解】\n",
    "        一个开源的Python科学计算库\n",
    "        计算起来要比python简洁高效\n",
    "        Numpy使用ndarray对象来处理多维数组\n",
    "        \n",
    "    ndarray介绍【了解】\n",
    "        NumPy提供了一个N维数组类型ndarray，它描述了相同类型的“items”的集合。\n",
    "        生成numpy对象:np.array()\n",
    "        \n",
    "    ndarray的优势【掌握】\n",
    "        内存块风格\n",
    "            list -- 分离式存储,存储内容多样化\n",
    "            ndarray -- 一体式存储,存储类型必须一样\n",
    "        ndarray支持并行化运算（向量化运算）\n",
    "        ndarray底层是用C语言写的,效率更高,释放了GIL"
   ]
  },
  {
   "cell_type": "raw",
   "id": "ae4718b4",
   "metadata": {},
   "source": [
    "4.2 N维数组-ndarrray"
   ]
  },
  {
   "cell_type": "markdown",
   "id": "4b6d37dc",
   "metadata": {},
   "source": [
    "# ndarray的属性\n",
    "数组属性反映了数组本身固有的信息。\n",
    "\n",
    "| 属性名字 | 属性解释 |\n",
    "| :----: | :----: |\n",
    "| **ndarray.shape**   | 数组维度的元组 |\n",
    "| ndarray.ndim    | 数组维数 |\n",
    "| ndarray.size    | 数组中的元素数量 |\n",
    "| ndarray.itemsize|     一个数组元素的长度（字节） |\n",
    "| **ndarray.dtype**   | 数组元素的类型 |"
   ]
  },
  {
   "cell_type": "code",
   "execution_count": 6,
   "id": "f83c4c6a",
   "metadata": {},
   "outputs": [
    {
     "name": "stdout",
     "output_type": "stream",
     "text": [
      "(2, 3)\n",
      "(4,)\n",
      "(3, 2, 2)\n"
     ]
    }
   ],
   "source": [
    "import numpy as np\n",
    "print(np.array([[1,2,3],[4,5,6]]).shape)\n",
    "print(np.array([1,2,3,4]).shape)\n",
    "'''\n",
    "三维数组可看成若干个二维数组组成\n",
    "若干个是shape的第一个参数，第二和第三个参数是二维数组的维度\n",
    "'''\n",
    "print(np.array([[[2,3],[5,6]],[[7,8],[8,9]],[[2,3],[3,4]]]).shape)"
   ]
  },
  {
   "cell_type": "markdown",
   "id": "a6a7b2b9",
   "metadata": {},
   "source": [
    "# ndarray的类型\n",
    "dtype是numpy.dtype类型，先看看对于数组来说都有哪些类型\n",
    "\n",
    "| 名称 | 描述 | 简写 |\n",
    "| :----: | :----: | :----: |\n",
    "| np.bool    | 用一个字节存储的布尔类型（True或False） |   'b' |\n",
    "| np.int8    | 一个字节大小，-128 至 127|   'i' |\n",
    "| np.int16   | 整数，-32768 至 32767 |  'i2' |\n",
    "| np.int32   | 整数，-2^31​ 至 2^32 -1   |  'i4' |\n",
    "| np.int64   | 整数，-2^63 至 2^63 - 1   |  'i8' |\n",
    "| np.uint8   | 无符号整数，0 至 255|   'u' |\n",
    "| np.uint16  | 无符号整数，0 至 65535   |  'u2' |\n",
    "| np.uint32  | 无符号整数，0 至 2^32 - 1|  'u4' |\n",
    "| np.uint64  | 无符号整数，0 至 2^64 - 1|  'u8' |\n",
    "| np.float16 | 半精度浮点数：16位，正负号1位，指数5位，精度10位   |  'f2' |\n",
    "| np.float32 | 单精度浮点数：32位，正负号1位，指数8位，精度23位   |  'f4' |\n",
    "| np.float64 | 双精度浮点数：64位，正负号1位，指数11位，精度52位  |  'f8' |\n",
    "| np.complex64 |    复数，分别用两个32位浮点数表示实部和虚部 |  'c8' |\n",
    "| np.complex128 |   复数，分别用两个64位浮点数表示实部和虚部  | 'c16' |\n",
    "| np.object_ | python对象 |   'O' |\n",
    "| np.string_ | 字符串  |   'S' |\n",
    "| np.unicode_|     unicode类型|   'U' |"
   ]
  },
  {
   "cell_type": "markdown",
   "id": "8d4ed0c2",
   "metadata": {},
   "source": [
    "**创建数组的时候指定类型**\n",
    "- 注意：若不指定，整数默认int64，小数默认float64"
   ]
  },
  {
   "cell_type": "code",
   "execution_count": 11,
   "id": "60236089",
   "metadata": {},
   "outputs": [
    {
     "name": "stdout",
     "output_type": "stream",
     "text": [
      "float32\n"
     ]
    },
    {
     "data": {
      "text/plain": [
       "array([b'python', b'tensorflow', b'scikit-learn', b'numpy'], dtype='|S12')"
      ]
     },
     "execution_count": 11,
     "metadata": {},
     "output_type": "execute_result"
    }
   ],
   "source": [
    "a = np.array([[1,2,3],[4,5,6]],dtype=np.float32)\n",
    "print(a.dtype)\n",
    "\n",
    "arr = np.array(['python', 'tensorflow', 'scikit-learn', 'numpy'], dtype=np.string_)\n",
    "arr"
   ]
  },
  {
   "cell_type": "code",
   "execution_count": null,
   "id": "a63798e0",
   "metadata": {},
   "outputs": [],
   "source": []
  }
 ],
 "metadata": {
  "kernelspec": {
   "display_name": "Python 3",
   "language": "python",
   "name": "python3"
  },
  "language_info": {
   "codemirror_mode": {
    "name": "ipython",
    "version": 3
   },
   "file_extension": ".py",
   "mimetype": "text/x-python",
   "name": "python",
   "nbconvert_exporter": "python",
   "pygments_lexer": "ipython3",
   "version": "3.6.9"
  },
  "toc": {
   "base_numbering": 1,
   "nav_menu": {},
   "number_sections": true,
   "sideBar": true,
   "skip_h1_title": false,
   "title_cell": "Table of Contents",
   "title_sidebar": "Contents",
   "toc_cell": false,
   "toc_position": {},
   "toc_section_display": true,
   "toc_window_display": false
  }
 },
 "nbformat": 4,
 "nbformat_minor": 5
}
