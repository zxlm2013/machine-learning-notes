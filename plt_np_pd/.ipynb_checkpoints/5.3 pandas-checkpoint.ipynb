{
 "cells": [
  {
   "cell_type": "code",
   "execution_count": null,
   "id": "b269a069",
   "metadata": {},
   "outputs": [],
   "source": [
    "# 5.3 基本数据操作"
   ]
  },
  {
   "cell_type": "code",
   "execution_count": 1,
   "id": "c21878cb",
   "metadata": {},
   "outputs": [],
   "source": [
    "import pandas as pd\n",
    "# 读取文件\n",
    "data = pd.read_csv(\"./stock_day.csv\")\n",
    "\n",
    "# 删除一些列，让数据更简单些，再去做后面的操作\n",
    "data = data.drop([\"ma5\",\"ma10\",\"ma20\",\"v_ma5\",\"v_ma10\",\"v_ma20\"],axis=1)"
   ]
  },
  {
   "cell_type": "markdown",
   "id": "a729a6c4",
   "metadata": {},
   "source": [
    "# 索引操作\n",
    "\n",
    "Numpy当中我们已经讲过使用索引选取序列和切片选择，pandas也支持类似的操作，也可以直接使用列名、行名称，甚至组合使用。\n",
    "## 直接使用行列索引(先列后行)\n",
    "\n",
    "获取'2018-02-27'这天的'close'的结果"
   ]
  },
  {
   "cell_type": "code",
   "execution_count": 4,
   "id": "a063ec8e",
   "metadata": {},
   "outputs": [
    {
     "data": {
      "text/plain": [
       "23.53"
      ]
     },
     "execution_count": 4,
     "metadata": {},
     "output_type": "execute_result"
    }
   ],
   "source": [
    "# 直接使用行列索引名字的方式（先列后行）\n",
    "data['open']['2018-02-27']"
   ]
  },
  {
   "cell_type": "code",
   "execution_count": null,
   "id": "4e91d61f",
   "metadata": {},
   "outputs": [],
   "source": [
    "# 不支持的操作\n",
    "# 错误\n",
    "data['2018-02-27']['open']\n",
    "# 错误\n",
    "data[:1, :2]"
   ]
  },
  {
   "cell_type": "markdown",
   "id": "43c09868",
   "metadata": {},
   "source": [
    "## 结合loc或者iloc使用索引\n",
    "\n",
    "获取从'2018-02-27':'2018-02-22'，'open'的结果"
   ]
  },
  {
   "cell_type": "code",
   "execution_count": 5,
   "id": "1ec8de47",
   "metadata": {},
   "outputs": [
    {
     "data": {
      "text/plain": [
       "2018-02-27    23.53\n",
       "2018-02-26    22.80\n",
       "2018-02-23    22.88\n",
       "2018-02-22    22.25\n",
       "Name: open, dtype: float64"
      ]
     },
     "execution_count": 5,
     "metadata": {},
     "output_type": "execute_result"
    }
   ],
   "source": [
    "# 使用loc:只能指定行列索引的名字\n",
    "data.loc['2018-02-27':'2018-02-22','open']"
   ]
  },
  {
   "cell_type": "code",
   "execution_count": 6,
   "id": "1c97957d",
   "metadata": {},
   "outputs": [
    {
     "data": {
      "text/html": [
       "<div>\n",
       "<style>\n",
       "    .dataframe thead tr:only-child th {\n",
       "        text-align: right;\n",
       "    }\n",
       "\n",
       "    .dataframe thead th {\n",
       "        text-align: left;\n",
       "    }\n",
       "\n",
       "    .dataframe tbody tr th {\n",
       "        vertical-align: top;\n",
       "    }\n",
       "</style>\n",
       "<table border=\"1\" class=\"dataframe\">\n",
       "  <thead>\n",
       "    <tr style=\"text-align: right;\">\n",
       "      <th></th>\n",
       "      <th>open</th>\n",
       "      <th>high</th>\n",
       "      <th>close</th>\n",
       "      <th>low</th>\n",
       "      <th>volume</th>\n",
       "    </tr>\n",
       "  </thead>\n",
       "  <tbody>\n",
       "    <tr>\n",
       "      <th>2018-02-27</th>\n",
       "      <td>23.53</td>\n",
       "      <td>25.88</td>\n",
       "      <td>24.16</td>\n",
       "      <td>23.53</td>\n",
       "      <td>95578.03</td>\n",
       "    </tr>\n",
       "    <tr>\n",
       "      <th>2018-02-26</th>\n",
       "      <td>22.80</td>\n",
       "      <td>23.78</td>\n",
       "      <td>23.53</td>\n",
       "      <td>22.80</td>\n",
       "      <td>60985.11</td>\n",
       "    </tr>\n",
       "    <tr>\n",
       "      <th>2018-02-23</th>\n",
       "      <td>22.88</td>\n",
       "      <td>23.37</td>\n",
       "      <td>22.82</td>\n",
       "      <td>22.71</td>\n",
       "      <td>52914.01</td>\n",
       "    </tr>\n",
       "  </tbody>\n",
       "</table>\n",
       "</div>"
      ],
      "text/plain": [
       "             open   high  close    low    volume\n",
       "2018-02-27  23.53  25.88  24.16  23.53  95578.03\n",
       "2018-02-26  22.80  23.78  23.53  22.80  60985.11\n",
       "2018-02-23  22.88  23.37  22.82  22.71  52914.01"
      ]
     },
     "execution_count": 6,
     "metadata": {},
     "output_type": "execute_result"
    }
   ],
   "source": [
    "# 使用iloc可以通过索引的下标去获取\n",
    "# 获取前3天数据,前5列的结果\n",
    "data.iloc[:3,:5]"
   ]
  },
  {
   "cell_type": "markdown",
   "id": "e89eb1cc",
   "metadata": {},
   "source": [
    "## 使用ix组合索引\n",
    "获取行第1天到第4天，['open', 'close', 'high', 'low']这个四个指标的结果"
   ]
  },
  {
   "cell_type": "code",
   "execution_count": 8,
   "id": "c8d2d6f1",
   "metadata": {},
   "outputs": [
    {
     "data": {
      "text/html": [
       "<div>\n",
       "<style>\n",
       "    .dataframe thead tr:only-child th {\n",
       "        text-align: right;\n",
       "    }\n",
       "\n",
       "    .dataframe thead th {\n",
       "        text-align: left;\n",
       "    }\n",
       "\n",
       "    .dataframe tbody tr th {\n",
       "        vertical-align: top;\n",
       "    }\n",
       "</style>\n",
       "<table border=\"1\" class=\"dataframe\">\n",
       "  <thead>\n",
       "    <tr style=\"text-align: right;\">\n",
       "      <th></th>\n",
       "      <th>open</th>\n",
       "      <th>close</th>\n",
       "      <th>high</th>\n",
       "      <th>low</th>\n",
       "    </tr>\n",
       "  </thead>\n",
       "  <tbody>\n",
       "    <tr>\n",
       "      <th>2018-02-27</th>\n",
       "      <td>23.53</td>\n",
       "      <td>24.16</td>\n",
       "      <td>25.88</td>\n",
       "      <td>23.53</td>\n",
       "    </tr>\n",
       "    <tr>\n",
       "      <th>2018-02-26</th>\n",
       "      <td>22.80</td>\n",
       "      <td>23.53</td>\n",
       "      <td>23.78</td>\n",
       "      <td>22.80</td>\n",
       "    </tr>\n",
       "    <tr>\n",
       "      <th>2018-02-23</th>\n",
       "      <td>22.88</td>\n",
       "      <td>22.82</td>\n",
       "      <td>23.37</td>\n",
       "      <td>22.71</td>\n",
       "    </tr>\n",
       "    <tr>\n",
       "      <th>2018-02-22</th>\n",
       "      <td>22.25</td>\n",
       "      <td>22.28</td>\n",
       "      <td>22.76</td>\n",
       "      <td>22.02</td>\n",
       "    </tr>\n",
       "  </tbody>\n",
       "</table>\n",
       "</div>"
      ],
      "text/plain": [
       "             open  close   high    low\n",
       "2018-02-27  23.53  24.16  25.88  23.53\n",
       "2018-02-26  22.80  23.53  23.78  22.80\n",
       "2018-02-23  22.88  22.82  23.37  22.71\n",
       "2018-02-22  22.25  22.28  22.76  22.02"
      ]
     },
     "execution_count": 8,
     "metadata": {},
     "output_type": "execute_result"
    }
   ],
   "source": [
    "# 使用ix进行下表和名称组合做引\n",
    "# Warning:Starting in 0.20.0, the .ix indexer is deprecated,\n",
    "# in favor of the more strict .iloc and .loc indexers.\n",
    "data.ix[0:4,['open', 'close', 'high', 'low']]"
   ]
  },
  {
   "cell_type": "code",
   "execution_count": 9,
   "id": "22629968",
   "metadata": {},
   "outputs": [
    {
     "data": {
      "text/html": [
       "<div>\n",
       "<style>\n",
       "    .dataframe thead tr:only-child th {\n",
       "        text-align: right;\n",
       "    }\n",
       "\n",
       "    .dataframe thead th {\n",
       "        text-align: left;\n",
       "    }\n",
       "\n",
       "    .dataframe tbody tr th {\n",
       "        vertical-align: top;\n",
       "    }\n",
       "</style>\n",
       "<table border=\"1\" class=\"dataframe\">\n",
       "  <thead>\n",
       "    <tr style=\"text-align: right;\">\n",
       "      <th></th>\n",
       "      <th>open</th>\n",
       "      <th>close</th>\n",
       "      <th>high</th>\n",
       "      <th>low</th>\n",
       "    </tr>\n",
       "  </thead>\n",
       "  <tbody>\n",
       "    <tr>\n",
       "      <th>2018-02-27</th>\n",
       "      <td>23.53</td>\n",
       "      <td>24.16</td>\n",
       "      <td>25.88</td>\n",
       "      <td>23.53</td>\n",
       "    </tr>\n",
       "    <tr>\n",
       "      <th>2018-02-26</th>\n",
       "      <td>22.80</td>\n",
       "      <td>23.53</td>\n",
       "      <td>23.78</td>\n",
       "      <td>22.80</td>\n",
       "    </tr>\n",
       "    <tr>\n",
       "      <th>2018-02-23</th>\n",
       "      <td>22.88</td>\n",
       "      <td>22.82</td>\n",
       "      <td>23.37</td>\n",
       "      <td>22.71</td>\n",
       "    </tr>\n",
       "    <tr>\n",
       "      <th>2018-02-22</th>\n",
       "      <td>22.25</td>\n",
       "      <td>22.28</td>\n",
       "      <td>22.76</td>\n",
       "      <td>22.02</td>\n",
       "    </tr>\n",
       "  </tbody>\n",
       "</table>\n",
       "</div>"
      ],
      "text/plain": [
       "             open  close   high    low\n",
       "2018-02-27  23.53  24.16  25.88  23.53\n",
       "2018-02-26  22.80  23.53  23.78  22.80\n",
       "2018-02-23  22.88  22.82  23.37  22.71\n",
       "2018-02-22  22.25  22.28  22.76  22.02"
      ]
     },
     "execution_count": 9,
     "metadata": {},
     "output_type": "execute_result"
    }
   ],
   "source": [
    "# 推荐使用loc和iloc来获取的方式\n",
    "data.loc[data.index[0:4],['open', 'close', 'high', 'low']]"
   ]
  },
  {
   "cell_type": "code",
   "execution_count": 10,
   "id": "7ac45c91",
   "metadata": {},
   "outputs": [
    {
     "data": {
      "text/html": [
       "<div>\n",
       "<style>\n",
       "    .dataframe thead tr:only-child th {\n",
       "        text-align: right;\n",
       "    }\n",
       "\n",
       "    .dataframe thead th {\n",
       "        text-align: left;\n",
       "    }\n",
       "\n",
       "    .dataframe tbody tr th {\n",
       "        vertical-align: top;\n",
       "    }\n",
       "</style>\n",
       "<table border=\"1\" class=\"dataframe\">\n",
       "  <thead>\n",
       "    <tr style=\"text-align: right;\">\n",
       "      <th></th>\n",
       "      <th>open</th>\n",
       "      <th>close</th>\n",
       "      <th>high</th>\n",
       "      <th>low</th>\n",
       "    </tr>\n",
       "  </thead>\n",
       "  <tbody>\n",
       "    <tr>\n",
       "      <th>2018-02-27</th>\n",
       "      <td>23.53</td>\n",
       "      <td>24.16</td>\n",
       "      <td>25.88</td>\n",
       "      <td>23.53</td>\n",
       "    </tr>\n",
       "    <tr>\n",
       "      <th>2018-02-26</th>\n",
       "      <td>22.80</td>\n",
       "      <td>23.53</td>\n",
       "      <td>23.78</td>\n",
       "      <td>22.80</td>\n",
       "    </tr>\n",
       "    <tr>\n",
       "      <th>2018-02-23</th>\n",
       "      <td>22.88</td>\n",
       "      <td>22.82</td>\n",
       "      <td>23.37</td>\n",
       "      <td>22.71</td>\n",
       "    </tr>\n",
       "    <tr>\n",
       "      <th>2018-02-22</th>\n",
       "      <td>22.25</td>\n",
       "      <td>22.28</td>\n",
       "      <td>22.76</td>\n",
       "      <td>22.02</td>\n",
       "    </tr>\n",
       "  </tbody>\n",
       "</table>\n",
       "</div>"
      ],
      "text/plain": [
       "             open  close   high    low\n",
       "2018-02-27  23.53  24.16  25.88  23.53\n",
       "2018-02-26  22.80  23.53  23.78  22.80\n",
       "2018-02-23  22.88  22.82  23.37  22.71\n",
       "2018-02-22  22.25  22.28  22.76  22.02"
      ]
     },
     "execution_count": 10,
     "metadata": {},
     "output_type": "execute_result"
    }
   ],
   "source": [
    "data.iloc[0:4,data.columns.get_indexer(['open', 'close', 'high', 'low'])]"
   ]
  },
  {
   "cell_type": "markdown",
   "id": "88619cb3",
   "metadata": {},
   "source": [
    "# 赋值操作\n",
    "\n",
    "对DataFrame当中的close列进行重新赋值为1"
   ]
  },
  {
   "cell_type": "code",
   "execution_count": 11,
   "id": "3e2c4405",
   "metadata": {},
   "outputs": [
    {
     "data": {
      "text/plain": [
       "2018-02-27    24.16\n",
       "2018-02-26    23.53\n",
       "2018-02-23    22.82\n",
       "2018-02-22    22.28\n",
       "2018-02-14    21.92\n",
       "2018-02-13    21.48\n",
       "2018-02-12    21.19\n",
       "2018-02-09    20.36\n",
       "2018-02-08    21.88\n",
       "2018-02-07    21.80\n",
       "2018-02-06    22.29\n",
       "2018-02-05    23.27\n",
       "2018-02-02    22.62\n",
       "2018-02-01    22.42\n",
       "2018-01-31    23.72\n",
       "2018-01-30    23.83\n",
       "2018-01-29    23.77\n",
       "2018-01-26    24.49\n",
       "2018-01-25    24.37\n",
       "2018-01-24    25.29\n",
       "2018-01-23    25.50\n",
       "2018-01-22    25.13\n",
       "2018-01-19    25.13\n",
       "2018-01-18    24.60\n",
       "2018-01-17    24.60\n",
       "2018-01-16    24.40\n",
       "2018-01-15    23.43\n",
       "2018-01-12    24.24\n",
       "2018-01-11    23.67\n",
       "2018-01-10    23.80\n",
       "              ...  \n",
       "2015-04-13    21.13\n",
       "2015-04-10    19.43\n",
       "2015-04-09    19.62\n",
       "2015-04-08    18.42\n",
       "2015-04-07    17.54\n",
       "2015-04-03    16.66\n",
       "2015-04-02    16.44\n",
       "2015-04-01    16.29\n",
       "2015-03-31    16.17\n",
       "2015-03-30    16.42\n",
       "2015-03-27    15.77\n",
       "2015-03-26    14.93\n",
       "2015-03-25    15.30\n",
       "2015-03-24    15.68\n",
       "2015-03-23    15.38\n",
       "2015-03-20    15.34\n",
       "2015-03-19    15.38\n",
       "2015-03-18    15.31\n",
       "2015-03-17    15.18\n",
       "2015-03-16    14.87\n",
       "2015-03-13    14.47\n",
       "2015-03-12    14.11\n",
       "2015-03-11    14.30\n",
       "2015-03-10    14.65\n",
       "2015-03-09    14.31\n",
       "2015-03-06    14.28\n",
       "2015-03-05    13.16\n",
       "2015-03-04    12.90\n",
       "2015-03-03    12.70\n",
       "2015-03-02    12.52\n",
       "Name: close, Length: 643, dtype: float64"
      ]
     },
     "execution_count": 11,
     "metadata": {},
     "output_type": "execute_result"
    }
   ],
   "source": [
    "data.close"
   ]
  },
  {
   "cell_type": "code",
   "execution_count": 12,
   "id": "20618335",
   "metadata": {},
   "outputs": [],
   "source": [
    "# 直接修改原来的值\n",
    "data['close'] = 1\n",
    "# 或者\n",
    "data.close = 1"
   ]
  },
  {
   "cell_type": "code",
   "execution_count": 13,
   "id": "d6ae2001",
   "metadata": {},
   "outputs": [
    {
     "data": {
      "text/plain": [
       "2018-02-27    1\n",
       "2018-02-26    1\n",
       "2018-02-23    1\n",
       "2018-02-22    1\n",
       "2018-02-14    1\n",
       "2018-02-13    1\n",
       "2018-02-12    1\n",
       "2018-02-09    1\n",
       "2018-02-08    1\n",
       "2018-02-07    1\n",
       "2018-02-06    1\n",
       "2018-02-05    1\n",
       "2018-02-02    1\n",
       "2018-02-01    1\n",
       "2018-01-31    1\n",
       "2018-01-30    1\n",
       "2018-01-29    1\n",
       "2018-01-26    1\n",
       "2018-01-25    1\n",
       "2018-01-24    1\n",
       "2018-01-23    1\n",
       "2018-01-22    1\n",
       "2018-01-19    1\n",
       "2018-01-18    1\n",
       "2018-01-17    1\n",
       "2018-01-16    1\n",
       "2018-01-15    1\n",
       "2018-01-12    1\n",
       "2018-01-11    1\n",
       "2018-01-10    1\n",
       "             ..\n",
       "2015-04-13    1\n",
       "2015-04-10    1\n",
       "2015-04-09    1\n",
       "2015-04-08    1\n",
       "2015-04-07    1\n",
       "2015-04-03    1\n",
       "2015-04-02    1\n",
       "2015-04-01    1\n",
       "2015-03-31    1\n",
       "2015-03-30    1\n",
       "2015-03-27    1\n",
       "2015-03-26    1\n",
       "2015-03-25    1\n",
       "2015-03-24    1\n",
       "2015-03-23    1\n",
       "2015-03-20    1\n",
       "2015-03-19    1\n",
       "2015-03-18    1\n",
       "2015-03-17    1\n",
       "2015-03-16    1\n",
       "2015-03-13    1\n",
       "2015-03-12    1\n",
       "2015-03-11    1\n",
       "2015-03-10    1\n",
       "2015-03-09    1\n",
       "2015-03-06    1\n",
       "2015-03-05    1\n",
       "2015-03-04    1\n",
       "2015-03-03    1\n",
       "2015-03-02    1\n",
       "Name: close, Length: 643, dtype: int64"
      ]
     },
     "execution_count": 13,
     "metadata": {},
     "output_type": "execute_result"
    }
   ],
   "source": [
    "data['close']"
   ]
  },
  {
   "cell_type": "markdown",
   "id": "88050b63",
   "metadata": {},
   "source": [
    "# 排序\n",
    "排序有两种形式，一种对于索引进行排序，一种对于内容进行排序\n",
    "## DataFrame排序\n",
    "- 使用df.sort_values(by=, ascending=)\n",
    "- \n",
    "    - 单个键或者多个键进行排序,\n",
    "    - 参数：\n",
    "        - by：指定排序参考的键\n",
    "        - ascending:默认升序\n",
    "            - ascending=False:降序\n",
    "            - ascending=True:升序"
   ]
  },
  {
   "cell_type": "code",
   "execution_count": 2,
   "id": "704a2cf2",
   "metadata": {},
   "outputs": [
    {
     "data": {
      "text/html": [
       "<div>\n",
       "<style>\n",
       "    .dataframe thead tr:only-child th {\n",
       "        text-align: right;\n",
       "    }\n",
       "\n",
       "    .dataframe thead th {\n",
       "        text-align: left;\n",
       "    }\n",
       "\n",
       "    .dataframe tbody tr th {\n",
       "        vertical-align: top;\n",
       "    }\n",
       "</style>\n",
       "<table border=\"1\" class=\"dataframe\">\n",
       "  <thead>\n",
       "    <tr style=\"text-align: right;\">\n",
       "      <th></th>\n",
       "      <th>open</th>\n",
       "      <th>high</th>\n",
       "      <th>close</th>\n",
       "      <th>low</th>\n",
       "      <th>volume</th>\n",
       "      <th>price_change</th>\n",
       "      <th>p_change</th>\n",
       "      <th>turnover</th>\n",
       "    </tr>\n",
       "  </thead>\n",
       "  <tbody>\n",
       "    <tr>\n",
       "      <th>2015-03-02</th>\n",
       "      <td>12.25</td>\n",
       "      <td>12.67</td>\n",
       "      <td>12.52</td>\n",
       "      <td>12.20</td>\n",
       "      <td>96291.73</td>\n",
       "      <td>0.32</td>\n",
       "      <td>2.62</td>\n",
       "      <td>3.30</td>\n",
       "    </tr>\n",
       "    <tr>\n",
       "      <th>2015-09-02</th>\n",
       "      <td>12.30</td>\n",
       "      <td>14.11</td>\n",
       "      <td>12.36</td>\n",
       "      <td>12.30</td>\n",
       "      <td>70201.74</td>\n",
       "      <td>-1.10</td>\n",
       "      <td>-8.17</td>\n",
       "      <td>2.40</td>\n",
       "    </tr>\n",
       "    <tr>\n",
       "      <th>2015-03-03</th>\n",
       "      <td>12.52</td>\n",
       "      <td>13.06</td>\n",
       "      <td>12.70</td>\n",
       "      <td>12.52</td>\n",
       "      <td>139071.61</td>\n",
       "      <td>0.18</td>\n",
       "      <td>1.44</td>\n",
       "      <td>4.76</td>\n",
       "    </tr>\n",
       "    <tr>\n",
       "      <th>2015-03-04</th>\n",
       "      <td>12.80</td>\n",
       "      <td>12.92</td>\n",
       "      <td>12.90</td>\n",
       "      <td>12.61</td>\n",
       "      <td>67075.44</td>\n",
       "      <td>0.20</td>\n",
       "      <td>1.57</td>\n",
       "      <td>2.30</td>\n",
       "    </tr>\n",
       "    <tr>\n",
       "      <th>2015-03-05</th>\n",
       "      <td>12.88</td>\n",
       "      <td>13.45</td>\n",
       "      <td>13.16</td>\n",
       "      <td>12.87</td>\n",
       "      <td>93180.39</td>\n",
       "      <td>0.26</td>\n",
       "      <td>2.02</td>\n",
       "      <td>3.19</td>\n",
       "    </tr>\n",
       "  </tbody>\n",
       "</table>\n",
       "</div>"
      ],
      "text/plain": [
       "             open   high  close    low     volume  price_change  p_change  \\\n",
       "2015-03-02  12.25  12.67  12.52  12.20   96291.73          0.32      2.62   \n",
       "2015-09-02  12.30  14.11  12.36  12.30   70201.74         -1.10     -8.17   \n",
       "2015-03-03  12.52  13.06  12.70  12.52  139071.61          0.18      1.44   \n",
       "2015-03-04  12.80  12.92  12.90  12.61   67075.44          0.20      1.57   \n",
       "2015-03-05  12.88  13.45  13.16  12.87   93180.39          0.26      2.02   \n",
       "\n",
       "            turnover  \n",
       "2015-03-02      3.30  \n",
       "2015-09-02      2.40  \n",
       "2015-03-03      4.76  \n",
       "2015-03-04      2.30  \n",
       "2015-03-05      3.19  "
      ]
     },
     "execution_count": 2,
     "metadata": {},
     "output_type": "execute_result"
    }
   ],
   "source": [
    "# 按照开盘价大小进行排序 , 使用ascending指定按照大小排序\n",
    "data.sort_values(by=\"open\", ascending=True).head()"
   ]
  },
  {
   "cell_type": "code",
   "execution_count": 4,
   "id": "3477dfb4",
   "metadata": {},
   "outputs": [
    {
     "data": {
      "text/html": [
       "<div>\n",
       "<style>\n",
       "    .dataframe thead tr:only-child th {\n",
       "        text-align: right;\n",
       "    }\n",
       "\n",
       "    .dataframe thead th {\n",
       "        text-align: left;\n",
       "    }\n",
       "\n",
       "    .dataframe tbody tr th {\n",
       "        vertical-align: top;\n",
       "    }\n",
       "</style>\n",
       "<table border=\"1\" class=\"dataframe\">\n",
       "  <thead>\n",
       "    <tr style=\"text-align: right;\">\n",
       "      <th></th>\n",
       "      <th>open</th>\n",
       "      <th>high</th>\n",
       "      <th>close</th>\n",
       "      <th>low</th>\n",
       "      <th>volume</th>\n",
       "      <th>price_change</th>\n",
       "      <th>p_change</th>\n",
       "      <th>turnover</th>\n",
       "    </tr>\n",
       "  </thead>\n",
       "  <tbody>\n",
       "    <tr>\n",
       "      <th>2015-03-02</th>\n",
       "      <td>12.25</td>\n",
       "      <td>12.67</td>\n",
       "      <td>12.52</td>\n",
       "      <td>12.20</td>\n",
       "      <td>96291.73</td>\n",
       "      <td>0.32</td>\n",
       "      <td>2.62</td>\n",
       "      <td>3.30</td>\n",
       "    </tr>\n",
       "    <tr>\n",
       "      <th>2015-09-02</th>\n",
       "      <td>12.30</td>\n",
       "      <td>14.11</td>\n",
       "      <td>12.36</td>\n",
       "      <td>12.30</td>\n",
       "      <td>70201.74</td>\n",
       "      <td>-1.10</td>\n",
       "      <td>-8.17</td>\n",
       "      <td>2.40</td>\n",
       "    </tr>\n",
       "    <tr>\n",
       "      <th>2015-03-03</th>\n",
       "      <td>12.52</td>\n",
       "      <td>13.06</td>\n",
       "      <td>12.70</td>\n",
       "      <td>12.52</td>\n",
       "      <td>139071.61</td>\n",
       "      <td>0.18</td>\n",
       "      <td>1.44</td>\n",
       "      <td>4.76</td>\n",
       "    </tr>\n",
       "    <tr>\n",
       "      <th>2015-03-04</th>\n",
       "      <td>12.80</td>\n",
       "      <td>12.92</td>\n",
       "      <td>12.90</td>\n",
       "      <td>12.61</td>\n",
       "      <td>67075.44</td>\n",
       "      <td>0.20</td>\n",
       "      <td>1.57</td>\n",
       "      <td>2.30</td>\n",
       "    </tr>\n",
       "    <tr>\n",
       "      <th>2015-03-05</th>\n",
       "      <td>12.88</td>\n",
       "      <td>13.45</td>\n",
       "      <td>13.16</td>\n",
       "      <td>12.87</td>\n",
       "      <td>93180.39</td>\n",
       "      <td>0.26</td>\n",
       "      <td>2.02</td>\n",
       "      <td>3.19</td>\n",
       "    </tr>\n",
       "  </tbody>\n",
       "</table>\n",
       "</div>"
      ],
      "text/plain": [
       "             open   high  close    low     volume  price_change  p_change  \\\n",
       "2015-03-02  12.25  12.67  12.52  12.20   96291.73          0.32      2.62   \n",
       "2015-09-02  12.30  14.11  12.36  12.30   70201.74         -1.10     -8.17   \n",
       "2015-03-03  12.52  13.06  12.70  12.52  139071.61          0.18      1.44   \n",
       "2015-03-04  12.80  12.92  12.90  12.61   67075.44          0.20      1.57   \n",
       "2015-03-05  12.88  13.45  13.16  12.87   93180.39          0.26      2.02   \n",
       "\n",
       "            turnover  \n",
       "2015-03-02      3.30  \n",
       "2015-09-02      2.40  \n",
       "2015-03-03      4.76  \n",
       "2015-03-04      2.30  \n",
       "2015-03-05      3.19  "
      ]
     },
     "execution_count": 4,
     "metadata": {},
     "output_type": "execute_result"
    }
   ],
   "source": [
    "# 按照多个键进行排序\n",
    "data.sort_values(by=['open', 'high']).head()"
   ]
  },
  {
   "cell_type": "code",
   "execution_count": 6,
   "id": "beceadc9",
   "metadata": {},
   "outputs": [
    {
     "data": {
      "text/html": [
       "<div>\n",
       "<style>\n",
       "    .dataframe thead tr:only-child th {\n",
       "        text-align: right;\n",
       "    }\n",
       "\n",
       "    .dataframe thead th {\n",
       "        text-align: left;\n",
       "    }\n",
       "\n",
       "    .dataframe tbody tr th {\n",
       "        vertical-align: top;\n",
       "    }\n",
       "</style>\n",
       "<table border=\"1\" class=\"dataframe\">\n",
       "  <thead>\n",
       "    <tr style=\"text-align: right;\">\n",
       "      <th></th>\n",
       "      <th>open</th>\n",
       "      <th>high</th>\n",
       "      <th>close</th>\n",
       "      <th>low</th>\n",
       "      <th>volume</th>\n",
       "      <th>price_change</th>\n",
       "      <th>p_change</th>\n",
       "      <th>turnover</th>\n",
       "    </tr>\n",
       "  </thead>\n",
       "  <tbody>\n",
       "    <tr>\n",
       "      <th>2015-03-02</th>\n",
       "      <td>12.25</td>\n",
       "      <td>12.67</td>\n",
       "      <td>12.52</td>\n",
       "      <td>12.20</td>\n",
       "      <td>96291.73</td>\n",
       "      <td>0.32</td>\n",
       "      <td>2.62</td>\n",
       "      <td>3.30</td>\n",
       "    </tr>\n",
       "    <tr>\n",
       "      <th>2015-03-03</th>\n",
       "      <td>12.52</td>\n",
       "      <td>13.06</td>\n",
       "      <td>12.70</td>\n",
       "      <td>12.52</td>\n",
       "      <td>139071.61</td>\n",
       "      <td>0.18</td>\n",
       "      <td>1.44</td>\n",
       "      <td>4.76</td>\n",
       "    </tr>\n",
       "    <tr>\n",
       "      <th>2015-03-04</th>\n",
       "      <td>12.80</td>\n",
       "      <td>12.92</td>\n",
       "      <td>12.90</td>\n",
       "      <td>12.61</td>\n",
       "      <td>67075.44</td>\n",
       "      <td>0.20</td>\n",
       "      <td>1.57</td>\n",
       "      <td>2.30</td>\n",
       "    </tr>\n",
       "    <tr>\n",
       "      <th>2015-03-05</th>\n",
       "      <td>12.88</td>\n",
       "      <td>13.45</td>\n",
       "      <td>13.16</td>\n",
       "      <td>12.87</td>\n",
       "      <td>93180.39</td>\n",
       "      <td>0.26</td>\n",
       "      <td>2.02</td>\n",
       "      <td>3.19</td>\n",
       "    </tr>\n",
       "    <tr>\n",
       "      <th>2015-03-06</th>\n",
       "      <td>13.17</td>\n",
       "      <td>14.48</td>\n",
       "      <td>14.28</td>\n",
       "      <td>13.13</td>\n",
       "      <td>179831.72</td>\n",
       "      <td>1.12</td>\n",
       "      <td>8.51</td>\n",
       "      <td>6.16</td>\n",
       "    </tr>\n",
       "  </tbody>\n",
       "</table>\n",
       "</div>"
      ],
      "text/plain": [
       "             open   high  close    low     volume  price_change  p_change  \\\n",
       "2015-03-02  12.25  12.67  12.52  12.20   96291.73          0.32      2.62   \n",
       "2015-03-03  12.52  13.06  12.70  12.52  139071.61          0.18      1.44   \n",
       "2015-03-04  12.80  12.92  12.90  12.61   67075.44          0.20      1.57   \n",
       "2015-03-05  12.88  13.45  13.16  12.87   93180.39          0.26      2.02   \n",
       "2015-03-06  13.17  14.48  14.28  13.13  179831.72          1.12      8.51   \n",
       "\n",
       "            turnover  \n",
       "2015-03-02      3.30  \n",
       "2015-03-03      4.76  \n",
       "2015-03-04      2.30  \n",
       "2015-03-05      3.19  \n",
       "2015-03-06      6.16  "
      ]
     },
     "execution_count": 6,
     "metadata": {},
     "output_type": "execute_result"
    }
   ],
   "source": [
    "# 对索引进行排序\n",
    "data.sort_index().head()"
   ]
  },
  {
   "cell_type": "markdown",
   "id": "d3b225e7",
   "metadata": {},
   "source": [
    "## Series排序\n",
    "\n",
    "- 使用series.sort_values(ascending=True)进行排序\n",
    "\n",
    "series排序时，只有一列，不需要参数"
   ]
  },
  {
   "cell_type": "code",
   "execution_count": 7,
   "id": "2ff1fb02",
   "metadata": {},
   "outputs": [
    {
     "data": {
      "text/plain": [
       "2015-09-01   -10.03\n",
       "2015-09-14   -10.02\n",
       "2016-01-11   -10.02\n",
       "2015-07-15   -10.02\n",
       "2015-08-26   -10.01\n",
       "Name: p_change, dtype: float64"
      ]
     },
     "execution_count": 7,
     "metadata": {},
     "output_type": "execute_result"
    }
   ],
   "source": [
    "data['p_change'].sort_values(ascending=True).head()"
   ]
  },
  {
   "cell_type": "markdown",
   "id": "8b333c84",
   "metadata": {},
   "source": [
    "- 使用series.sort_index()进行排序\n",
    "\n",
    "与df一致"
   ]
  },
  {
   "cell_type": "code",
   "execution_count": 8,
   "id": "bdcb9e0c",
   "metadata": {},
   "outputs": [
    {
     "data": {
      "text/plain": [
       "2015-03-02    2.62\n",
       "2015-03-03    1.44\n",
       "2015-03-04    1.57\n",
       "2015-03-05    2.02\n",
       "2015-03-06    8.51\n",
       "Name: p_change, dtype: float64"
      ]
     },
     "execution_count": 8,
     "metadata": {},
     "output_type": "execute_result"
    }
   ],
   "source": [
    "data['p_change'].sort_index().head()"
   ]
  },
  {
   "cell_type": "markdown",
   "id": "d1249dc0",
   "metadata": {},
   "source": [
    "# 总结\n",
    "- 1.索引【掌握】\n",
    "    - 直接索引 -- 先列后行,是需要通过索引的字符串进行获取\n",
    "    - loc -- 先行后列,是需要通过索引的字符串进行获取\n",
    "    - iloc -- 先行后列,是通过下标进行索引\n",
    "    - ix -- 先行后列, 可以用上面两种方法混合进行索引\n",
    "- 2.赋值【知道】\n",
    "    - data[\"\"] = **\n",
    "    - data. =\n",
    "- 3.排序【知道】\n",
    "    - dataframe\n",
    "        - 对象.sort_values()\n",
    "        - 对象.sort_index()\n",
    "    - series\n",
    "        - 对象.sort_values()\n",
    "        - 对象.sort_index()"
   ]
  },
  {
   "cell_type": "code",
   "execution_count": null,
   "id": "4ce31760",
   "metadata": {},
   "outputs": [],
   "source": []
  }
 ],
 "metadata": {
  "kernelspec": {
   "display_name": "Python 3",
   "language": "python",
   "name": "python3"
  },
  "language_info": {
   "codemirror_mode": {
    "name": "ipython",
    "version": 3
   },
   "file_extension": ".py",
   "mimetype": "text/x-python",
   "name": "python",
   "nbconvert_exporter": "python",
   "pygments_lexer": "ipython3",
   "version": "3.6.9"
  },
  "toc": {
   "base_numbering": 1,
   "nav_menu": {},
   "number_sections": true,
   "sideBar": true,
   "skip_h1_title": false,
   "title_cell": "Table of Contents",
   "title_sidebar": "Contents",
   "toc_cell": false,
   "toc_position": {},
   "toc_section_display": true,
   "toc_window_display": false
  }
 },
 "nbformat": 4,
 "nbformat_minor": 5
}
