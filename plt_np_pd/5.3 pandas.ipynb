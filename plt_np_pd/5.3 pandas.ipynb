{
 "cells": [
  {
   "cell_type": "raw",
   "id": "60422de6",
   "metadata": {},
   "source": [
    "5.3 基本数据操作"
   ]
  },
  {
   "cell_type": "code",
   "execution_count": 2,
   "id": "c21878cb",
   "metadata": {},
   "outputs": [],
   "source": [
    "import pandas as pd\n",
    "# 读取文件\n",
    "data = pd.read_csv(\"./stock_day.csv\")\n",
    "\n",
    "# 删除一些列，让数据更简单些，再去做后面的操作\n",
    "data = data.drop([\"ma5\",\"ma10\",\"ma20\",\"v_ma5\",\"v_ma10\",\"v_ma20\"],axis=1)"
   ]
  },
  {
   "cell_type": "markdown",
   "id": "a729a6c4",
   "metadata": {},
   "source": [
    "# 索引操作\n",
    "\n",
    "Numpy当中我们已经讲过使用索引选取序列和切片选择，pandas也支持类似的操作，也可以直接使用列名、行名称，甚至组合使用。\n",
    "## 直接使用行列索引(先列后行)\n",
    "\n",
    "获取'2018-02-27'这天的'close'的结果"
   ]
  },
  {
   "cell_type": "code",
   "execution_count": 4,
   "id": "a063ec8e",
   "metadata": {},
   "outputs": [
    {
     "data": {
      "text/plain": [
       "23.53"
      ]
     },
     "execution_count": 4,
     "metadata": {},
     "output_type": "execute_result"
    }
   ],
   "source": [
    "# 直接使用行列索引名字的方式（先列后行）\n",
    "data['open']['2018-02-27']"
   ]
  },
  {
   "cell_type": "code",
   "execution_count": null,
   "id": "4e91d61f",
   "metadata": {},
   "outputs": [],
   "source": [
    "# 不支持的操作\n",
    "# 错误\n",
    "data['2018-02-27']['open']\n",
    "# 错误\n",
    "data[:1, :2]"
   ]
  },
  {
   "cell_type": "markdown",
   "id": "43c09868",
   "metadata": {},
   "source": [
    "## 结合loc或者iloc使用索引\n",
    "\n",
    "获取从'2018-02-27':'2018-02-22'，'open'的结果"
   ]
  },
  {
   "cell_type": "code",
   "execution_count": 5,
   "id": "1ec8de47",
   "metadata": {},
   "outputs": [
    {
     "data": {
      "text/plain": [
       "2018-02-27    23.53\n",
       "2018-02-26    22.80\n",
       "2018-02-23    22.88\n",
       "2018-02-22    22.25\n",
       "Name: open, dtype: float64"
      ]
     },
     "execution_count": 5,
     "metadata": {},
     "output_type": "execute_result"
    }
   ],
   "source": [
    "# 使用loc:只能指定行列索引的名字\n",
    "data.loc['2018-02-27':'2018-02-22','open']"
   ]
  },
  {
   "cell_type": "code",
   "execution_count": 6,
   "id": "1c97957d",
   "metadata": {},
   "outputs": [
    {
     "data": {
      "text/html": [
       "<div>\n",
       "<style>\n",
       "    .dataframe thead tr:only-child th {\n",
       "        text-align: right;\n",
       "    }\n",
       "\n",
       "    .dataframe thead th {\n",
       "        text-align: left;\n",
       "    }\n",
       "\n",
       "    .dataframe tbody tr th {\n",
       "        vertical-align: top;\n",
       "    }\n",
       "</style>\n",
       "<table border=\"1\" class=\"dataframe\">\n",
       "  <thead>\n",
       "    <tr style=\"text-align: right;\">\n",
       "      <th></th>\n",
       "      <th>open</th>\n",
       "      <th>high</th>\n",
       "      <th>close</th>\n",
       "      <th>low</th>\n",
       "      <th>volume</th>\n",
       "    </tr>\n",
       "  </thead>\n",
       "  <tbody>\n",
       "    <tr>\n",
       "      <th>2018-02-27</th>\n",
       "      <td>23.53</td>\n",
       "      <td>25.88</td>\n",
       "      <td>24.16</td>\n",
       "      <td>23.53</td>\n",
       "      <td>95578.03</td>\n",
       "    </tr>\n",
       "    <tr>\n",
       "      <th>2018-02-26</th>\n",
       "      <td>22.80</td>\n",
       "      <td>23.78</td>\n",
       "      <td>23.53</td>\n",
       "      <td>22.80</td>\n",
       "      <td>60985.11</td>\n",
       "    </tr>\n",
       "    <tr>\n",
       "      <th>2018-02-23</th>\n",
       "      <td>22.88</td>\n",
       "      <td>23.37</td>\n",
       "      <td>22.82</td>\n",
       "      <td>22.71</td>\n",
       "      <td>52914.01</td>\n",
       "    </tr>\n",
       "  </tbody>\n",
       "</table>\n",
       "</div>"
      ],
      "text/plain": [
       "             open   high  close    low    volume\n",
       "2018-02-27  23.53  25.88  24.16  23.53  95578.03\n",
       "2018-02-26  22.80  23.78  23.53  22.80  60985.11\n",
       "2018-02-23  22.88  23.37  22.82  22.71  52914.01"
      ]
     },
     "execution_count": 6,
     "metadata": {},
     "output_type": "execute_result"
    }
   ],
   "source": [
    "# 使用iloc可以通过索引的下标去获取\n",
    "# 获取前3天数据,前5列的结果\n",
    "data.iloc[:3,:5]"
   ]
  },
  {
   "cell_type": "markdown",
   "id": "e89eb1cc",
   "metadata": {},
   "source": [
    "## 使用ix组合索引\n",
    "获取行第1天到第4天，['open', 'close', 'high', 'low']这个四个指标的结果"
   ]
  },
  {
   "cell_type": "code",
   "execution_count": 8,
   "id": "c8d2d6f1",
   "metadata": {},
   "outputs": [
    {
     "data": {
      "text/html": [
       "<div>\n",
       "<style>\n",
       "    .dataframe thead tr:only-child th {\n",
       "        text-align: right;\n",
       "    }\n",
       "\n",
       "    .dataframe thead th {\n",
       "        text-align: left;\n",
       "    }\n",
       "\n",
       "    .dataframe tbody tr th {\n",
       "        vertical-align: top;\n",
       "    }\n",
       "</style>\n",
       "<table border=\"1\" class=\"dataframe\">\n",
       "  <thead>\n",
       "    <tr style=\"text-align: right;\">\n",
       "      <th></th>\n",
       "      <th>open</th>\n",
       "      <th>close</th>\n",
       "      <th>high</th>\n",
       "      <th>low</th>\n",
       "    </tr>\n",
       "  </thead>\n",
       "  <tbody>\n",
       "    <tr>\n",
       "      <th>2018-02-27</th>\n",
       "      <td>23.53</td>\n",
       "      <td>24.16</td>\n",
       "      <td>25.88</td>\n",
       "      <td>23.53</td>\n",
       "    </tr>\n",
       "    <tr>\n",
       "      <th>2018-02-26</th>\n",
       "      <td>22.80</td>\n",
       "      <td>23.53</td>\n",
       "      <td>23.78</td>\n",
       "      <td>22.80</td>\n",
       "    </tr>\n",
       "    <tr>\n",
       "      <th>2018-02-23</th>\n",
       "      <td>22.88</td>\n",
       "      <td>22.82</td>\n",
       "      <td>23.37</td>\n",
       "      <td>22.71</td>\n",
       "    </tr>\n",
       "    <tr>\n",
       "      <th>2018-02-22</th>\n",
       "      <td>22.25</td>\n",
       "      <td>22.28</td>\n",
       "      <td>22.76</td>\n",
       "      <td>22.02</td>\n",
       "    </tr>\n",
       "  </tbody>\n",
       "</table>\n",
       "</div>"
      ],
      "text/plain": [
       "             open  close   high    low\n",
       "2018-02-27  23.53  24.16  25.88  23.53\n",
       "2018-02-26  22.80  23.53  23.78  22.80\n",
       "2018-02-23  22.88  22.82  23.37  22.71\n",
       "2018-02-22  22.25  22.28  22.76  22.02"
      ]
     },
     "execution_count": 8,
     "metadata": {},
     "output_type": "execute_result"
    }
   ],
   "source": [
    "# 使用ix进行下表和名称组合做引\n",
    "# Warning:Starting in 0.20.0, the .ix indexer is deprecated,\n",
    "# in favor of the more strict .iloc and .loc indexers.\n",
    "data.ix[0:4,['open', 'close', 'high', 'low']]"
   ]
  },
  {
   "cell_type": "code",
   "execution_count": 9,
   "id": "22629968",
   "metadata": {},
   "outputs": [
    {
     "data": {
      "text/html": [
       "<div>\n",
       "<style>\n",
       "    .dataframe thead tr:only-child th {\n",
       "        text-align: right;\n",
       "    }\n",
       "\n",
       "    .dataframe thead th {\n",
       "        text-align: left;\n",
       "    }\n",
       "\n",
       "    .dataframe tbody tr th {\n",
       "        vertical-align: top;\n",
       "    }\n",
       "</style>\n",
       "<table border=\"1\" class=\"dataframe\">\n",
       "  <thead>\n",
       "    <tr style=\"text-align: right;\">\n",
       "      <th></th>\n",
       "      <th>open</th>\n",
       "      <th>close</th>\n",
       "      <th>high</th>\n",
       "      <th>low</th>\n",
       "    </tr>\n",
       "  </thead>\n",
       "  <tbody>\n",
       "    <tr>\n",
       "      <th>2018-02-27</th>\n",
       "      <td>23.53</td>\n",
       "      <td>24.16</td>\n",
       "      <td>25.88</td>\n",
       "      <td>23.53</td>\n",
       "    </tr>\n",
       "    <tr>\n",
       "      <th>2018-02-26</th>\n",
       "      <td>22.80</td>\n",
       "      <td>23.53</td>\n",
       "      <td>23.78</td>\n",
       "      <td>22.80</td>\n",
       "    </tr>\n",
       "    <tr>\n",
       "      <th>2018-02-23</th>\n",
       "      <td>22.88</td>\n",
       "      <td>22.82</td>\n",
       "      <td>23.37</td>\n",
       "      <td>22.71</td>\n",
       "    </tr>\n",
       "    <tr>\n",
       "      <th>2018-02-22</th>\n",
       "      <td>22.25</td>\n",
       "      <td>22.28</td>\n",
       "      <td>22.76</td>\n",
       "      <td>22.02</td>\n",
       "    </tr>\n",
       "  </tbody>\n",
       "</table>\n",
       "</div>"
      ],
      "text/plain": [
       "             open  close   high    low\n",
       "2018-02-27  23.53  24.16  25.88  23.53\n",
       "2018-02-26  22.80  23.53  23.78  22.80\n",
       "2018-02-23  22.88  22.82  23.37  22.71\n",
       "2018-02-22  22.25  22.28  22.76  22.02"
      ]
     },
     "execution_count": 9,
     "metadata": {},
     "output_type": "execute_result"
    }
   ],
   "source": [
    "# 推荐使用loc和iloc来获取的方式\n",
    "data.loc[data.index[0:4],['open', 'close', 'high', 'low']]"
   ]
  },
  {
   "cell_type": "code",
   "execution_count": 10,
   "id": "7ac45c91",
   "metadata": {},
   "outputs": [
    {
     "data": {
      "text/html": [
       "<div>\n",
       "<style>\n",
       "    .dataframe thead tr:only-child th {\n",
       "        text-align: right;\n",
       "    }\n",
       "\n",
       "    .dataframe thead th {\n",
       "        text-align: left;\n",
       "    }\n",
       "\n",
       "    .dataframe tbody tr th {\n",
       "        vertical-align: top;\n",
       "    }\n",
       "</style>\n",
       "<table border=\"1\" class=\"dataframe\">\n",
       "  <thead>\n",
       "    <tr style=\"text-align: right;\">\n",
       "      <th></th>\n",
       "      <th>open</th>\n",
       "      <th>close</th>\n",
       "      <th>high</th>\n",
       "      <th>low</th>\n",
       "    </tr>\n",
       "  </thead>\n",
       "  <tbody>\n",
       "    <tr>\n",
       "      <th>2018-02-27</th>\n",
       "      <td>23.53</td>\n",
       "      <td>24.16</td>\n",
       "      <td>25.88</td>\n",
       "      <td>23.53</td>\n",
       "    </tr>\n",
       "    <tr>\n",
       "      <th>2018-02-26</th>\n",
       "      <td>22.80</td>\n",
       "      <td>23.53</td>\n",
       "      <td>23.78</td>\n",
       "      <td>22.80</td>\n",
       "    </tr>\n",
       "    <tr>\n",
       "      <th>2018-02-23</th>\n",
       "      <td>22.88</td>\n",
       "      <td>22.82</td>\n",
       "      <td>23.37</td>\n",
       "      <td>22.71</td>\n",
       "    </tr>\n",
       "    <tr>\n",
       "      <th>2018-02-22</th>\n",
       "      <td>22.25</td>\n",
       "      <td>22.28</td>\n",
       "      <td>22.76</td>\n",
       "      <td>22.02</td>\n",
       "    </tr>\n",
       "  </tbody>\n",
       "</table>\n",
       "</div>"
      ],
      "text/plain": [
       "             open  close   high    low\n",
       "2018-02-27  23.53  24.16  25.88  23.53\n",
       "2018-02-26  22.80  23.53  23.78  22.80\n",
       "2018-02-23  22.88  22.82  23.37  22.71\n",
       "2018-02-22  22.25  22.28  22.76  22.02"
      ]
     },
     "execution_count": 10,
     "metadata": {},
     "output_type": "execute_result"
    }
   ],
   "source": [
    "data.iloc[0:4,data.columns.get_indexer(['open', 'close', 'high', 'low'])]"
   ]
  },
  {
   "cell_type": "markdown",
   "id": "88619cb3",
   "metadata": {},
   "source": [
    "# 赋值操作\n",
    "\n",
    "对DataFrame当中的close列进行重新赋值为1"
   ]
  },
  {
   "cell_type": "code",
   "execution_count": 11,
   "id": "3e2c4405",
   "metadata": {},
   "outputs": [
    {
     "data": {
      "text/plain": [
       "2018-02-27    24.16\n",
       "2018-02-26    23.53\n",
       "2018-02-23    22.82\n",
       "2018-02-22    22.28\n",
       "2018-02-14    21.92\n",
       "2018-02-13    21.48\n",
       "2018-02-12    21.19\n",
       "2018-02-09    20.36\n",
       "2018-02-08    21.88\n",
       "2018-02-07    21.80\n",
       "2018-02-06    22.29\n",
       "2018-02-05    23.27\n",
       "2018-02-02    22.62\n",
       "2018-02-01    22.42\n",
       "2018-01-31    23.72\n",
       "2018-01-30    23.83\n",
       "2018-01-29    23.77\n",
       "2018-01-26    24.49\n",
       "2018-01-25    24.37\n",
       "2018-01-24    25.29\n",
       "2018-01-23    25.50\n",
       "2018-01-22    25.13\n",
       "2018-01-19    25.13\n",
       "2018-01-18    24.60\n",
       "2018-01-17    24.60\n",
       "2018-01-16    24.40\n",
       "2018-01-15    23.43\n",
       "2018-01-12    24.24\n",
       "2018-01-11    23.67\n",
       "2018-01-10    23.80\n",
       "              ...  \n",
       "2015-04-13    21.13\n",
       "2015-04-10    19.43\n",
       "2015-04-09    19.62\n",
       "2015-04-08    18.42\n",
       "2015-04-07    17.54\n",
       "2015-04-03    16.66\n",
       "2015-04-02    16.44\n",
       "2015-04-01    16.29\n",
       "2015-03-31    16.17\n",
       "2015-03-30    16.42\n",
       "2015-03-27    15.77\n",
       "2015-03-26    14.93\n",
       "2015-03-25    15.30\n",
       "2015-03-24    15.68\n",
       "2015-03-23    15.38\n",
       "2015-03-20    15.34\n",
       "2015-03-19    15.38\n",
       "2015-03-18    15.31\n",
       "2015-03-17    15.18\n",
       "2015-03-16    14.87\n",
       "2015-03-13    14.47\n",
       "2015-03-12    14.11\n",
       "2015-03-11    14.30\n",
       "2015-03-10    14.65\n",
       "2015-03-09    14.31\n",
       "2015-03-06    14.28\n",
       "2015-03-05    13.16\n",
       "2015-03-04    12.90\n",
       "2015-03-03    12.70\n",
       "2015-03-02    12.52\n",
       "Name: close, Length: 643, dtype: float64"
      ]
     },
     "execution_count": 11,
     "metadata": {},
     "output_type": "execute_result"
    }
   ],
   "source": [
    "data.close"
   ]
  },
  {
   "cell_type": "code",
   "execution_count": 12,
   "id": "20618335",
   "metadata": {},
   "outputs": [],
   "source": [
    "# 直接修改原来的值\n",
    "data['close'] = 1\n",
    "# 或者\n",
    "data.close = 1"
   ]
  },
  {
   "cell_type": "code",
   "execution_count": 13,
   "id": "d6ae2001",
   "metadata": {},
   "outputs": [
    {
     "data": {
      "text/plain": [
       "2018-02-27    1\n",
       "2018-02-26    1\n",
       "2018-02-23    1\n",
       "2018-02-22    1\n",
       "2018-02-14    1\n",
       "2018-02-13    1\n",
       "2018-02-12    1\n",
       "2018-02-09    1\n",
       "2018-02-08    1\n",
       "2018-02-07    1\n",
       "2018-02-06    1\n",
       "2018-02-05    1\n",
       "2018-02-02    1\n",
       "2018-02-01    1\n",
       "2018-01-31    1\n",
       "2018-01-30    1\n",
       "2018-01-29    1\n",
       "2018-01-26    1\n",
       "2018-01-25    1\n",
       "2018-01-24    1\n",
       "2018-01-23    1\n",
       "2018-01-22    1\n",
       "2018-01-19    1\n",
       "2018-01-18    1\n",
       "2018-01-17    1\n",
       "2018-01-16    1\n",
       "2018-01-15    1\n",
       "2018-01-12    1\n",
       "2018-01-11    1\n",
       "2018-01-10    1\n",
       "             ..\n",
       "2015-04-13    1\n",
       "2015-04-10    1\n",
       "2015-04-09    1\n",
       "2015-04-08    1\n",
       "2015-04-07    1\n",
       "2015-04-03    1\n",
       "2015-04-02    1\n",
       "2015-04-01    1\n",
       "2015-03-31    1\n",
       "2015-03-30    1\n",
       "2015-03-27    1\n",
       "2015-03-26    1\n",
       "2015-03-25    1\n",
       "2015-03-24    1\n",
       "2015-03-23    1\n",
       "2015-03-20    1\n",
       "2015-03-19    1\n",
       "2015-03-18    1\n",
       "2015-03-17    1\n",
       "2015-03-16    1\n",
       "2015-03-13    1\n",
       "2015-03-12    1\n",
       "2015-03-11    1\n",
       "2015-03-10    1\n",
       "2015-03-09    1\n",
       "2015-03-06    1\n",
       "2015-03-05    1\n",
       "2015-03-04    1\n",
       "2015-03-03    1\n",
       "2015-03-02    1\n",
       "Name: close, Length: 643, dtype: int64"
      ]
     },
     "execution_count": 13,
     "metadata": {},
     "output_type": "execute_result"
    }
   ],
   "source": [
    "data['close']"
   ]
  },
  {
   "cell_type": "code",
   "execution_count": null,
   "id": "6396ee0a",
   "metadata": {},
   "outputs": [],
   "source": []
  }
 ],
 "metadata": {
  "kernelspec": {
   "display_name": "Python 3",
   "language": "python",
   "name": "python3"
  },
  "language_info": {
   "codemirror_mode": {
    "name": "ipython",
    "version": 3
   },
   "file_extension": ".py",
   "mimetype": "text/x-python",
   "name": "python",
   "nbconvert_exporter": "python",
   "pygments_lexer": "ipython3",
   "version": "3.6.9"
  },
  "toc": {
   "base_numbering": 1,
   "nav_menu": {},
   "number_sections": true,
   "sideBar": true,
   "skip_h1_title": false,
   "title_cell": "Table of Contents",
   "title_sidebar": "Contents",
   "toc_cell": false,
   "toc_position": {},
   "toc_section_display": true,
   "toc_window_display": false
  }
 },
 "nbformat": 4,
 "nbformat_minor": 5
}
